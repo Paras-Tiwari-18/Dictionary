{
  "cells": [
    {
      "cell_type": "markdown",
      "metadata": {
        "id": "view-in-github",
        "colab_type": "text"
      },
      "source": [
        "<a href=\"https://colab.research.google.com/github/Paras-Tiwari-18/Dictionary/blob/main/chapter_appendix-tools-for-deep-learning/jupyter.ipynb\" target=\"_parent\"><img src=\"https://colab.research.google.com/assets/colab-badge.svg\" alt=\"Open In Colab\"/></a>"
      ]
    },
    {
      "cell_type": "code",
      "source": [
        "import nltk\n",
        "nltk.download('gutenberg')\n",
        "from nltk.corpus import gutenberg\n",
        "import pandas as pd"
      ],
      "metadata": {
        "colab": {
          "base_uri": "https://localhost:8080/"
        },
        "id": "cuta_OEFJuWR",
        "outputId": "2b8cde70-38a4-4070-9138-7244cb341359"
      },
      "id": "cuta_OEFJuWR",
      "execution_count": 1,
      "outputs": [
        {
          "output_type": "stream",
          "name": "stderr",
          "text": [
            "[nltk_data] Downloading package gutenberg to /root/nltk_data...\n",
            "[nltk_data]   Unzipping corpora/gutenberg.zip.\n"
          ]
        }
      ]
    },
    {
      "cell_type": "markdown",
      "source": [
        "Extracting raw text data from the Gutenberg corpus in NLTK."
      ],
      "metadata": {
        "id": "rzg1r23jLEq9"
      },
      "id": "rzg1r23jLEq9"
    },
    {
      "cell_type": "code",
      "source": [
        "data = gutenberg.raw('shakespeare-hamlet.txt')\n"
      ],
      "metadata": {
        "id": "xw7-iQM8K_-a"
      },
      "id": "xw7-iQM8K_-a",
      "execution_count": 2,
      "outputs": []
    },
    {
      "cell_type": "code",
      "source": [
        "with open('hamlet.txt','w') as file:\n",
        "  file.write(data)"
      ],
      "metadata": {
        "id": "YPI_dNF3LSds"
      },
      "id": "YPI_dNF3LSds",
      "execution_count": 3,
      "outputs": []
    }
  ],
  "metadata": {
    "kernelspec": {
      "display_name": "Python 3",
      "name": "python3"
    },
    "language_info": {
      "name": "python"
    },
    "required_libs": [],
    "colab": {
      "provenance": [],
      "include_colab_link": true
    }
  },
  "nbformat": 4,
  "nbformat_minor": 5
}